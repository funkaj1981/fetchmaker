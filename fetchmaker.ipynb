{
 "cells": [
  {
   "cell_type": "markdown",
   "metadata": {},
   "source": [
    "# FetchMaker\n",
    "\n",
    "#### Congratulations! You’ve just started working at the hottest new tech startup, FetchMaker.\n"
   ]
  },
  {
   "cell_type": "markdown",
   "metadata": {},
   "source": [
    "#### FetchMaker’s mission is to match up prospective dog owners with their perfect pet."
   ]
  },
  {
   "cell_type": "markdown",
   "metadata": {},
   "source": [
    "#### Data on thousands of adoptable dogs are in FetchMaker’s system, and it’s your job to analyze some of that data."
   ]
  },
  {
   "cell_type": "markdown",
   "metadata": {},
   "source": [
    "\n"
   ]
  },
  {
   "cell_type": "markdown",
   "metadata": {},
   "source": [
    "Let's start by including a data interface called `fetchmaker` that will give you access to FetchMaker's dog data.\n",
    "\n",
    "Use `import fetchmaker` at the top of our **fetchmaker** file to import the `fetchmaker` package.\n",
    "\n",
    "We will also import `numpy`.\n"
   ]
  },
  {
   "cell_type": "code",
   "execution_count": 2,
   "metadata": {},
   "outputs": [],
   "source": [
    "import numpy as np\n",
    "import fetchmaker"
   ]
  },
  {
   "cell_type": "markdown",
   "metadata": {},
   "source": [
    "The attributes that FetchMaker keeps track of are:\n",
    "\n",
    "  - `weight`, an integer representing how heavy a dog is in pounds\n",
    "  - `tail_length`, a float representing tail length in inches\n",
    "  - `age`, in years\n",
    "  - `color`, a String such as `\"brown\"` or `\"grey\"`\n",
    "  - `is_rescue`, a boolean `0` or `1`"
   ]
  },
  {
   "cell_type": "markdown",
   "metadata": {},
   "source": [
    "The `fetchmaker` package lets you access this data for a specific breed of dog with the following format:"
   ]
  },
  {
   "cell_type": "markdown",
   "metadata": {},
   "source": [
    "```\n",
    "fetchmaker.get_weight(\"poodle\")\n",
    "```"
   ]
  },
  {
   "cell_type": "markdown",
   "metadata": {},
   "source": [
    "This returns a Pandas DataFrame of the weights of the poodles recorded in the system. The other methods are `get_tail_length`, `get_color`, `get_age`, and `get_is_rescue`, which all take a breed as an input."
   ]
  },
  {
   "cell_type": "markdown",
   "metadata": {},
   "source": [
    "Get the tail lengths of all of the `\"rottweiler\"`s in the system, and store it in a variable called `rottweiler_tl`."
   ]
  },
  {
   "cell_type": "code",
   "execution_count": 5,
   "metadata": {},
   "outputs": [
    {
     "name": "stdout",
     "output_type": "stream",
     "text": [
      "400    3.13\n",
      "401    3.32\n",
      "402    1.16\n",
      "403    2.23\n",
      "404    8.86\n",
      "Name: tail_length, dtype: float64\n"
     ]
    }
   ],
   "source": [
    "rottweiler_tl = fetchmaker.get_tail_length(\n",
    "    'rottweiler')\n",
    "print(rottweiler_tl.head())"
   ]
  },
  {
   "cell_type": "markdown",
   "metadata": {},
   "source": [
    "\n",
    "Print out the mean of `rottweiler_tl` and the standard deviation of `rottweiler_tl`, using `np.mean` and `np.std`.\n"
   ]
  },
  {
   "cell_type": "code",
   "execution_count": 7,
   "metadata": {},
   "outputs": [
    {
     "name": "stdout",
     "output_type": "stream",
     "text": [
      "4.2360999999999995\n",
      "2.0647536874891395\n"
     ]
    }
   ],
   "source": [
    "print(np.mean(rottweiler_tl))\n",
    "print(np.std(rottweiler_tl))"
   ]
  },
  {
   "cell_type": "markdown",
   "metadata": {},
   "source": [
    "\n",
    "Over the years, we have seen that we expect `8%` of dogs in the FetchMaker system to be rescues. We want to know if whippets are significantly more or less likely to be a rescue.\n"
   ]
  },
  {
   "cell_type": "markdown",
   "metadata": {},
   "source": [
    "Store the `is_rescue` values for `\"whippet\"`s in a variable called `whippet_rescue`."
   ]
  },
  {
   "cell_type": "code",
   "execution_count": 8,
   "metadata": {},
   "outputs": [
    {
     "name": "stdout",
     "output_type": "stream",
     "text": [
      "700    0\n",
      "701    0\n",
      "702    0\n",
      "703    0\n",
      "704    0\n",
      "Name: is_rescue, dtype: int64\n"
     ]
    }
   ],
   "source": [
    "whippet_rescue = fetchmaker.get_is_rescue(\n",
    "    'whippet')\n",
    "print(whippet_rescue.head())"
   ]
  },
  {
   "cell_type": "markdown",
   "metadata": {},
   "source": [
    "\n",
    "Use `np.count_nonzero` to get the number of entries in `whippet_rescue` that are `1`. Store this number in a variable called `num_whippet_rescues`.\n"
   ]
  },
  {
   "cell_type": "code",
   "execution_count": 11,
   "metadata": {},
   "outputs": [
    {
     "name": "stdout",
     "output_type": "stream",
     "text": [
      "6\n"
     ]
    }
   ],
   "source": [
    "num_whippet_rescues = np.count_nonzero(\n",
    "    whippet_rescue)\n",
    "print(num_whippet_rescues)"
   ]
  },
  {
   "cell_type": "markdown",
   "metadata": {},
   "source": [
    "\n",
    "Get the number of samples in the whippet set by taking the `np.size` of `whippet_rescue`. Store this in a variable called `num_whippets`.\n"
   ]
  },
  {
   "cell_type": "code",
   "execution_count": 12,
   "metadata": {},
   "outputs": [
    {
     "name": "stdout",
     "output_type": "stream",
     "text": [
      "100\n"
     ]
    }
   ],
   "source": [
    "num_whippets = np.size(whippet_rescue)\n",
    "print(num_whippets)"
   ]
  },
  {
   "cell_type": "markdown",
   "metadata": {},
   "source": [
    "\n",
    "Use a binomial test to test the number of whippet rescues, `num_whippet_rescues`, against our expected percentage, `8%`.\n"
   ]
  },
  {
   "cell_type": "markdown",
   "metadata": {},
   "source": [
    "Remember to import the binomial test by using `from scipy.stats import binom_test`."
   ]
  },
  {
   "cell_type": "code",
   "execution_count": 13,
   "metadata": {},
   "outputs": [],
   "source": [
    "from scipy.stats import binom_test\n",
    "pval = binom_test(num_whippet_rescues,\n",
    "                 num_whippets,\n",
    "                 p=0.08)"
   ]
  },
  {
   "cell_type": "markdown",
   "metadata": {},
   "source": [
    "\n",
    "Print out the p-value. Is your result significant?\n"
   ]
  },
  {
   "cell_type": "code",
   "execution_count": 14,
   "metadata": {},
   "outputs": [
    {
     "name": "stdout",
     "output_type": "stream",
     "text": [
      "0.5811780106238098\n",
      "The pvalue is not significant\n"
     ]
    }
   ],
   "source": [
    "print(pval)\n",
    "\n",
    "def pval_sig(pvalue):\n",
    "  if pvalue < 0.05:\n",
    "    return 'The pvalue is significant'\n",
    "  else:\n",
    "    return 'The pvalue is not significant'\n",
    "print(pval_sig(pval))"
   ]
  },
  {
   "cell_type": "markdown",
   "metadata": {},
   "source": [
    "Three of our most popular mid-sized dog breeds are whippets, terriers, and pitbulls. Is there a significant difference in the average weights of these three dog breeds? Perform a comparative numerical test to determine if there is a significant difference."
   ]
  },
  {
   "cell_type": "code",
   "execution_count": 15,
   "metadata": {},
   "outputs": [
    {
     "name": "stdout",
     "output_type": "stream",
     "text": [
      "40.82\n",
      "30.92\n",
      "44.16\n",
      "12.795608621710809\n",
      "8.601953266555219\n",
      "9.373067800885684\n",
      "3.276415588274815e-17\n"
     ]
    }
   ],
   "source": [
    "wt_whip = fetchmaker.get_weight('whippet')\n",
    "wt_ter = fetchmaker.get_weight('terrier')\n",
    "wt_pit = fetchmaker.get_weight('pitbull')\n",
    "\n",
    "print(np.mean(wt_whip))\n",
    "print(np.mean(wt_ter))\n",
    "print(np.mean(wt_pit))\n",
    "\n",
    "print(np.std(wt_whip))\n",
    "print(np.std(wt_ter))\n",
    "print(np.std(wt_pit))\n",
    "\n",
    "std_whip = np.std(wt_whip)\n",
    "std_ter = np.std(wt_ter)\n",
    "std_pit = np.std(wt_pit)\n",
    "\n",
    "ratio_whip_ter = std_whip/std_ter\n",
    "#print(ratio_whip_ter)\n",
    "ratio_whip_pit = std_whip/std_pit\n",
    "#print(ratio_whip_pit)\n",
    "ratio_ter_pit = std_ter/std_pit\n",
    "#print(ratio_ter_pit)\n",
    "\n",
    "from scipy.stats import f_oneway\n",
    "\n",
    "fstat, pval = f_oneway(wt_whip, wt_ter, wt_pit)\n",
    "print(pval)"
   ]
  },
  {
   "cell_type": "markdown",
   "metadata": {},
   "source": [
    "Now, perform another test to determine which of the pairs of these dog breeds differ from each other."
   ]
  },
  {
   "cell_type": "code",
   "execution_count": 16,
   "metadata": {},
   "outputs": [
    {
     "name": "stdout",
     "output_type": "stream",
     "text": [
      "Multiple Comparison of Means - Tukey HSD,FWER=0.05\n",
      "==============================================\n",
      " group1  group2 meandiff  lower  upper  reject\n",
      "----------------------------------------------\n",
      "pitbull terrier  -13.24  -16.728 -9.752  True \n",
      "pitbull whippet  -3.34    -6.828 0.148  False \n",
      "terrier whippet   9.9     6.412  13.388  True \n",
      "----------------------------------------------\n"
     ]
    }
   ],
   "source": [
    "from statsmodels.stats.multicomp import pairwise_tukeyhsd\n",
    "\n",
    "wt_whip_ter_pit = np.concatenate(\n",
    "    [wt_whip,\n",
    "    wt_ter,\n",
    "    wt_pit])\n",
    "labels = ['whippet'] * len(wt_whip) + ['terrier'] * len(wt_ter) + ['pitbull'] * len(wt_pit)\n",
    "\n",
    "tukey_whip_ter_pit = pairwise_tukeyhsd(\n",
    "    wt_whip_ter_pit,\n",
    "    labels,\n",
    "    0.05)\n",
    "print(tukey_whip_ter_pit)"
   ]
  },
  {
   "cell_type": "markdown",
   "metadata": {},
   "source": [
    "We want to see if `\"poodle\"`s and `\"shihtzu\"`s have significantly different color breakdowns.\n",
    "\n",
    "Get the poodle colors and store it in a variable called `poodle_colors`.\n",
    "\n",
    "Get the shih tzu colors and store it in a variable called `shihtzu_colors`."
   ]
  },
  {
   "cell_type": "code",
   "execution_count": 17,
   "metadata": {},
   "outputs": [],
   "source": [
    "poodle_colors = fetchmaker.get_color('poodle')\n",
    "shihtzu_colors = fetchmaker.get_color('shihtzu')\n",
    "#print(poodle_colors)\n",
    "#print(shihtzu_colors)"
   ]
  },
  {
   "cell_type": "markdown",
   "metadata": {},
   "source": [
    "You can get the number of occurrences of brown poodles by using `np.count_nonzero(poodle_colors == \"brown\")`.\n",
    "\n",
    "Use this function to build a Chi Square contingency table, called `color_table`, with the following structure:\n",
    "\n",
    "```\n",
    "     Poodle\tShih Tzu\n",
    "Black\tx\tx\n",
    "Brown\tx\tx\n",
    "Gold\tx\tx\n",
    "Grey\tx\tx\n",
    "White\tx\tx\n",
    "```\n",
    "\n",
    "Fill in the \"x\" entries with the number of each poodle or shih tzu with the specified color."
   ]
  },
  {
   "cell_type": "code",
   "execution_count": 18,
   "metadata": {},
   "outputs": [
    {
     "name": "stdout",
     "output_type": "stream",
     "text": [
      "[[17, 10], [13, 36], [8, 6], [52, 41], [10, 7]]\n"
     ]
    }
   ],
   "source": [
    "pood_bl = np.count_nonzero(\n",
    "    poodle_colors == 'black')\n",
    "pood_br = np.count_nonzero(\n",
    "    poodle_colors == 'brown')\n",
    "pood_go = np.count_nonzero(\n",
    "    poodle_colors == 'gold')\n",
    "pood_gr = np.count_nonzero(\n",
    "    poodle_colors == 'grey')\n",
    "pood_wh = np.count_nonzero(\n",
    "    poodle_colors == 'white')\n",
    "\n",
    "shih_bl = np.count_nonzero(\n",
    "    shihtzu_colors == 'black')\n",
    "shih_br = np.count_nonzero(\n",
    "    shihtzu_colors == 'brown')\n",
    "shih_go = np.count_nonzero(\n",
    "    shihtzu_colors == 'gold')\n",
    "shih_gr = np.count_nonzero(\n",
    "    shihtzu_colors == 'grey')\n",
    "shih_wh = np.count_nonzero(\n",
    "    shihtzu_colors == 'white')\n",
    "\n",
    "# Contingency table\n",
    "#           Poodle   |  Shih Tzu\n",
    "# -------+-----------+---------------\n",
    "# Black  |  17          10\n",
    "# Brown  |  13          36\n",
    "# Gold   |   8           6\n",
    "# Grey   |  52          41\n",
    "# White  |  10           7\n",
    "\n",
    "color_table = [[pood_bl, shih_bl],\n",
    "               [pood_br, shih_br],\n",
    "               [pood_go, shih_go],\n",
    "               [pood_gr, shih_gr],\n",
    "               [pood_wh, shih_wh]]\n",
    "print(color_table)"
   ]
  },
  {
   "cell_type": "markdown",
   "metadata": {},
   "source": [
    "Feed your `color_table` into SciPy's Chi Square test, save the p-value and print it out.\n",
    "\n",
    "Is there a significant difference?"
   ]
  },
  {
   "cell_type": "code",
   "execution_count": 19,
   "metadata": {},
   "outputs": [
    {
     "name": "stdout",
     "output_type": "stream",
     "text": [
      "14.726934501399128\n",
      "0.005302408293244593\n",
      "4\n",
      "[[13.5 13.5]\n",
      " [24.5 24.5]\n",
      " [ 7.   7. ]\n",
      " [46.5 46.5]\n",
      " [ 8.5  8.5]]\n",
      "Significant\n"
     ]
    }
   ],
   "source": [
    "from scipy.stats import chi2_contingency\n",
    "\n",
    "chi2, pval, dof, expected = chi2_contingency(\n",
    "    color_table)\n",
    "print(chi2)\n",
    "print(pval)\n",
    "print(dof)\n",
    "print(expected)\n",
    "\n",
    "if pval < 0.05:\n",
    "  print('Significant')\n",
    "else:\n",
    "  print('Not significant')"
   ]
  }
 ],
 "metadata": {
  "kernelspec": {
   "display_name": "Python 2",
   "language": "python",
   "name": "python2"
  },
  "language_info": {
   "codemirror_mode": {
    "name": "ipython",
    "version": 2
   },
   "file_extension": ".py",
   "mimetype": "text/x-python",
   "name": "python",
   "nbconvert_exporter": "python",
   "pygments_lexer": "ipython2",
   "version": "2.7.14"
  }
 },
 "nbformat": 4,
 "nbformat_minor": 2
}
